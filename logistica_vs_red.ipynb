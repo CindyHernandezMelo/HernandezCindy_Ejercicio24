{
 "cells": [
  {
   "cell_type": "markdown",
   "metadata": {},
   "source": [
    "## Regresión logística vs Redes Neuronales"
   ]
  },
  {
   "cell_type": "markdown",
   "metadata": {},
   "source": [
    "## 1. Dataset"
   ]
  },
  {
   "cell_type": "markdown",
   "metadata": {},
   "source": [
    "El Dataset usado corresponde a información recolectada de un grupo de 30 voluntarios dentro de un rango de edad de 19-48 años. Cada persona realizó seis actividades:\n",
    "1. WALKING, \n",
    "2. WALKING_UPSTAIRS\n",
    "3. WALKING_DOWNSTAIRS\n",
    "4. SITTING\n",
    "5. STANDING, \n",
    "6. LAYING\n",
    "\n",
    "usando un teléfono inteligente (Samsung Galaxy S II) en la cintura. Con su acelerómetro y giroscopio integrados, se capturó la aceleración lineal 3-axial y la velocidad angular 3-axial a una velocidad constante de 50Hz."
   ]
  },
  {
   "cell_type": "code",
   "execution_count": 1,
   "metadata": {},
   "outputs": [],
   "source": [
    "import matplotlib.pyplot as plt\n",
    "import numpy as np\n",
    "\n",
    "from sklearn.preprocessing import StandardScaler\n",
    "from sklearn.model_selection import train_test_split\n",
    "\n",
    "from sklearn.linear_model import LogisticRegression\n",
    "\n",
    "import pandas as pd\n",
    "\n",
    "from sklearn.metrics import f1_score\n",
    "\n",
    "data = pd.read_csv('smartphone_activity_dataset.csv')\n",
    "\n",
    "predictors = list(data.keys())\n",
    "predictors.remove('activity')\n",
    "\n",
    "scaler = StandardScaler()\n",
    "x_train, x_test, y_train, y_test = train_test_split(data[predictors], \n",
    "                                                    data['activity'], \n",
    "                                                    train_size=0.5)\n",
    "\n",
    "x_train = scaler.fit_transform(x_train)\n",
    "x_test = scaler.transform(x_test)"
   ]
  },
  {
   "cell_type": "markdown",
   "metadata": {},
   "source": [
    "## 2. Regresión Logística"
   ]
  },
  {
   "cell_type": "code",
   "execution_count": 12,
   "metadata": {},
   "outputs": [],
   "source": [
    "import warnings\n",
    "warnings.filterwarnings(\"ignore\", category=FutureWarning)\n",
    "\n",
    "tamanho = 10\n",
    "C = np.logspace(-2,2,tamanho)\n",
    "F1_l1 = np.zeros(tamanho)\n",
    "F1_l2 = np.zeros(tamanho)\n",
    "\n",
    "for i in range(tamanho):\n",
    "    \n",
    "    clf_l1 = LogisticRegression(C=C[i], penalty='l1', solver='saga', tol=0.1)\n",
    "    clf_l2 = LogisticRegression(C=C[i], penalty='l2', solver='saga', tol=0.1)\n",
    "    clf_l1.fit(x_train, y_train)\n",
    "    clf_l2.fit(x_train, y_train)\n",
    "    F1_l1[i] = f1_score(y_test, clf_l1.predict(x_test), average='macro')\n",
    "    F1_l2[i] = f1_score(y_test, clf_l2.predict(x_test), average='macro')\n",
    "    \n",
    "    "
   ]
  },
  {
   "cell_type": "code",
   "execution_count": 13,
   "metadata": {},
   "outputs": [
    {
     "data": {
      "text/plain": [
       "[]"
      ]
     },
     "execution_count": 13,
     "metadata": {},
     "output_type": "execute_result"
    },
    {
     "data": {
      "image/png": "[encoded data removed]",
      "text/plain": [
       "<Figure size 432x288 with 1 Axes>"
      ]
     },
     "metadata": {
      "needs_background": "light"
     },
     "output_type": "display_data"
    }
   ],
   "source": [
    "plt.figure()\n",
    "plt.plot(C, F1_l1,  \"r-\",  label = 'l1')\n",
    "plt.plot(C, F1_l2,  \"g-\", label = 'l2')\n",
    "plt.legend()\n",
    "plt.xlabel('C')\n",
    "plt.ylabel('F1')\n",
    "plt.semilogx()"
   ]
  },
  {
   "cell_type": "markdown",
   "metadata": {},
   "source": [
    "# Redes neuronales"
   ]
  },
  {
   "cell_type": "code",
   "execution_count": 4,
   "metadata": {},
   "outputs": [
    {
     "name": "stderr",
     "output_type": "stream",
     "text": [
      "C:\\Users\\LENOVO\\Anaconda3\\lib\\site-packages\\sklearn\\metrics\\classification.py:1437: UndefinedMetricWarning: F-score is ill-defined and being set to 0.0 in labels with no predicted samples.\n",
      "  'precision', 'predicted', average, warn_for)\n"
     ]
    }
   ],
   "source": [
    "import sklearn.neural_network\n",
    "neuronas = np.arange(1,7)\n",
    "F1_1capa = np.zeros(6)\n",
    "F1_2capa = np.zeros(6)\n",
    "for i in neuronas:\n",
    "    mlp_1 = sklearn.neural_network.MLPClassifier(activation='logistic', \n",
    "                                           hidden_layer_sizes=(i), \n",
    "                                           max_iter=2000)\n",
    "    mlp_2 = sklearn.neural_network.MLPClassifier(activation='logistic', \n",
    "                                           hidden_layer_sizes=(int((i+1)/2),i+1), \n",
    "                                           max_iter=2000)\n",
    "    mlp_1.fit(x_train, y_train)\n",
    "    mlp_2.fit(x_train, y_train)\n",
    "    F1_1capa[i-1] = f1_score(y_test, mlp_1.predict(x_test), average='macro')\n",
    "    F1_2capa[i-1] = f1_score(y_test, mlp_2.predict(x_test), average='macro')\n",
    "    "
   ]
  },
  {
   "cell_type": "code",
   "execution_count": 5,
   "metadata": {},
   "outputs": [
    {
     "data": {
      "text/plain": [
       "Text(0, 0.5, 'F1')"
      ]
     },
     "execution_count": 5,
     "metadata": {},
     "output_type": "execute_result"
    },
    {
     "data": {
      "image/png": "[encoded data removed]",
      "text/plain": [
       "<Figure size 432x288 with 1 Axes>"
      ]
     },
     "metadata": {
      "needs_background": "light"
     },
     "output_type": "display_data"
    }
   ],
   "source": [
    "plt.figure()\n",
    "plt.plot(neuronas, F1_1capa,  \"r-\",  label = '1 capas')\n",
    "plt.plot(neuronas[1:], F1_2capa[:-1],  \"g-\", label = '2 capas')\n",
    "plt.legend()\n",
    "plt.xlabel('Neuronas')\n",
    "plt.ylabel('F1')"
   ]
  },
  {
   "cell_type": "code",
   "execution_count": 14,
   "metadata": {},
   "outputs": [
    {
     "name": "stdout",
     "output_type": "stream",
     "text": [
      "max F1 Regresión lineal: 0.918446\n",
      "max F1 Red neuronal 1c: 0.976831\n",
      "max F1 Red neuronal 2c: 0.974524\n"
     ]
    }
   ],
   "source": [
    "print('max F1 Regresión lineal: %f'%np.max(F1_l1))\n",
    "print('max F1 Red neuronal 1c: %f'%np.max(F1_1capa))\n",
    "print('max F1 Red neuronal 2c: %f'%np.max(F1_2capa))\n"
   ]
  },
  {
   "cell_type": "markdown",
   "metadata": {},
   "source": [
    "De acuerdo con los resultados obtenidos, es posible observar que añadiir una segunda capa no mejora de manera significativa los resultados finales. Por otro lado, aumentar el número de neuronas en la última capa de ambas redes neuronales si resulta en una mejora en los resultados de la clasificación. "
   ]
  },
  {
   "cell_type": "markdown",
   "metadata": {},
   "source": [
    "La clasificación de las redes neuronales en comparación con la regresión logística es mejor."
   ]
  },
  {
   "cell_type": "code",
   "execution_count": 11,
   "metadata": {},
   "outputs": [
    {
     "name": "stdout",
     "output_type": "stream",
     "text": [
      "Red neuronal 1 capa, 6 neuronas\n"
     ]
    },
    {
     "data": {
      "text/plain": [
       "array([[845,   3,   0,   0,   0,   0],\n",
       "       [  4, 775,   7,   0,   0,   0],\n",
       "       [  1,   4, 689,   0,   0,   0],\n",
       "       [  0,   1,   0, 839,  49,   2],\n",
       "       [  0,   0,   0,  47, 880,   1],\n",
       "       [  0,   0,   0,   4,   0, 999]], dtype=int64)"
      ]
     },
     "execution_count": 11,
     "metadata": {},
     "output_type": "execute_result"
    }
   ],
   "source": [
    "from sklearn.metrics import confusion_matrix\n",
    "print('Red neuronal 1 capa, 6 neuronas')\n",
    "confusion_matrix(y_test, mlp_1.predict(x_test))"
   ]
  },
  {
   "cell_type": "markdown",
   "metadata": {},
   "source": [
    "Los resultados que presentan errores son en su mayoría las actividades de SITTING y STANDING"
   ]
  },
  {
   "cell_type": "code",
   "execution_count": null,
   "metadata": {},
   "outputs": [],
   "source": []
  }
 ],
 "metadata": {
  "kernelspec": {
   "display_name": "Python 3",
   "language": "python",
   "name": "python3"
  },
  "language_info": {
   "codemirror_mode": {
    "name": "ipython",
    "version": 3
   },
   "file_extension": ".py",
   "mimetype": "text/x-python",
   "name": "python",
   "nbconvert_exporter": "python",
   "pygments_lexer": "ipython3",
   "version": "3.6.5"
  }
 },
 "nbformat": 4,
 "nbformat_minor": 4
}
